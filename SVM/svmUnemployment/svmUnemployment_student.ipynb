{
 "cells": [
  {
   "cell_type": "markdown",
   "metadata": {},
   "source": [
    "# Lab assignment: unemployment rates"
   ]
  },
  {
   "cell_type": "markdown",
   "metadata": {},
   "source": [
    "In this assignment we will estimate unemployment rates in Spain, using *pandas* for reading information, *scikit-learn* for training estimators, and *geopandas* and *folium* for visualizing results."
   ]
  },
  {
   "cell_type": "markdown",
   "metadata": {},
   "source": [
    "## 0. Guidelines"
   ]
  },
  {
   "cell_type": "markdown",
   "metadata": {},
   "source": [
    "Throughout this notebook you will find empty cells that you will need to fill with your own code. Follow the instructions in the notebook and pay special attention to the following symbols.\n",
    "\n",
    "<table align=\"center\">\n",
    " <tr><td width=\"80\"><img src=\"img/question.png\" style=\"width:auto;height:auto\"></td><td style=\"text-align:left\">You will need to solve a question by writing your own code or answer in the cell immediately below or in a different file, as instructed.</td></tr>\n",
    " <tr><td width=\"80\"><img src=\"img/exclamation.png\" style=\"width:auto;height:auto\"></td><td style=\"text-align:left\">This is a hint or useful observation that can help you solve a question. You should pay attention to these hints to better understand questions.</td></tr>\n",
    " <tr><td width=\"80\"><img src=\"img/pro.png\" style=\"width:auto;height:auto\"></td><td style=\"text-align:left\">This is an advanced and voluntary exercise that can help you gain a deeper knowledge into the topic. Good luck!</td></tr>\n",
    "</table>\n",
    "\n",
    "During the assignment you will make use of several Python packages that might not be installed in your machine. It is strongly recommended that you use the environment file *environment.yml* and follow the instructions of the following <a href=\"https://github.com/jorloplaz/teaching_material/tree/master/SVM\">link</a>.\n",
    "\n",
    "If you need any help on the usage of a Python function you can place the writing cursor over its name and press Caps+Shift to produce a pop-out with related documentation. This will only work inside code cells.\n",
    "\n",
    "Make sure the following cell executes correctly, as it imports all you will need:"
   ]
  },
  {
   "cell_type": "code",
   "execution_count": null,
   "metadata": {
    "ExecuteTime": {
     "end_time": "2018-09-12T12:09:02.355927Z",
     "start_time": "2018-09-12T12:08:58.297175Z"
    }
   },
   "outputs": [],
   "source": [
    "import pandas as pd\n",
    "import numpy as np\n",
    "import branca.colormap as cm\n",
    "import utils\n",
    "from sklearn.model_selection import train_test_split, GridSearchCV\n",
    "from sklearn.pipeline import Pipeline\n",
    "from sklearn.preprocessing import StandardScaler\n",
    "from sklearn.svm import LinearSVR, SVR\n",
    "from sklearn.metrics import r2_score\n",
    "from math import ceil\n",
    "%matplotlib inline"
   ]
  },
  {
   "cell_type": "markdown",
   "metadata": {},
   "source": [
    "## 1. Load and understand data"
   ]
  },
  {
   "cell_type": "markdown",
   "metadata": {},
   "source": [
    "To begin with, let us read some **numerical characteristics of Spanish municipalities**: "
   ]
  },
  {
   "cell_type": "code",
   "execution_count": null,
   "metadata": {
    "ExecuteTime": {
     "end_time": "2018-09-12T12:09:06.154479Z",
     "start_time": "2018-09-12T12:09:05.940490Z"
    }
   },
   "outputs": [],
   "source": [
    "muns_population = utils.read_population('./data/municipios.csv')\n",
    "print(len(muns_population))\n",
    "muns_population.head()"
   ]
  },
  {
   "cell_type": "markdown",
   "metadata": {},
   "source": [
    "As you can see, **for each municipality we have its position (latitude and longitude in degrees), its altitude (in meters) and its population (number of inhabitants)**. The resulting dataframe is **indexed in a hierarchical way, first by autonomous community, then by province, and finally by municipality name, for a total of 8112 municipalities**."
   ]
  },
  {
   "cell_type": "markdown",
   "metadata": {},
   "source": [
    "Our goal is to **predict the yearly unemployment rate for each municipality in 2017**. Let us read the unemployment data belonging to that year:"
   ]
  },
  {
   "cell_type": "code",
   "execution_count": null,
   "metadata": {
    "ExecuteTime": {
     "end_time": "2018-09-12T12:09:16.001302Z",
     "start_time": "2018-09-12T12:09:11.433327Z"
    }
   },
   "outputs": [],
   "source": [
    "unempl_2017 = utils.read_unemployment('./data/Paro_por_municipios_2017.csv')   # use specific load function from utils module\n",
    "print(len(unempl_2017), len(unempl_2017.index.unique()))\n",
    "unempl_2017.head()"
   ]
  },
  {
   "cell_type": "markdown",
   "metadata": {},
   "source": [
    "These data are indexed in the same way as *muns_population* above. However, we are interested in yearly unemployment, but **we have monthly information** (actually, 97512 observations from 8126 municipalities). For example, taking the municipality of Abla:"
   ]
  },
  {
   "cell_type": "code",
   "execution_count": null,
   "metadata": {
    "ExecuteTime": {
     "end_time": "2018-09-12T12:09:20.070390Z",
     "start_time": "2018-09-12T12:09:19.971744Z"
    }
   },
   "outputs": [],
   "source": [
    "unempl_2017.xs(key='Abla', level=utils.MUN_FIELD, drop_level=False)      # all records whose mun is Abla, keeping index intact"
   ]
  },
  {
   "cell_type": "markdown",
   "metadata": {},
   "source": [
    "Using grouping, it is fairly easy to obtain the **yearly means** for each municipality:"
   ]
  },
  {
   "cell_type": "code",
   "execution_count": null,
   "metadata": {
    "ExecuteTime": {
     "end_time": "2018-09-12T12:09:57.736618Z",
     "start_time": "2018-09-12T12:09:57.657314Z"
    }
   },
   "outputs": [],
   "source": [
    "unempl_2017_means = unempl_2017.groupby(unempl_2017.index.names)[[utils.UNEMPL_FIELD]].mean()   # group by all index levels, then take the mean\n",
    "assert(len(unempl_2017_means) == len(unempl_2017) // 12)       # there should be just 1 row for each municipality\n",
    "unempl_2017_means.head()"
   ]
  },
  {
   "cell_type": "markdown",
   "metadata": {},
   "source": [
    "Now, in order to obtain our target values, we just need to transform these raw figures to unemployment rates, that is, we have to **divide unemployment by each municipality's population**:"
   ]
  },
  {
   "cell_type": "markdown",
   "metadata": {},
   "source": [
    "<table align=\"left\">\n",
    " <tr><td width=\"80\"><img src=\"img/question.png\" style=\"width:auto;height:auto\"></td><td style=\"text-align:left\">\n",
    " Create a <i>Y</i> matrix with the mean unemployment rates.\n",
    " </td></tr>\n",
    "</table>"
   ]
  },
  {
   "cell_type": "markdown",
   "metadata": {},
   "source": [
    "<table align=\"left\">\n",
    "<tr><td width=\"80\"><img src=\"img/exclamation.png\" style=\"width:auto;height:auto\"></td><td style=\"text-align:left\">\n",
    "    You should join the frames <i>unempl_2017_means</i> and <i>muns_population</i>. Then divide the mean unemployed people by the inhabitants. \n",
    "</td></tr>\n",
    "</table>"
   ]
  },
  {
   "cell_type": "markdown",
   "metadata": {},
   "source": [
    "<table align=\"left\">\n",
    "<tr><td width=\"80\"><img src=\"img/exclamation.png\" style=\"width:auto;height:auto\"></td><td style=\"text-align:left\">\n",
    "    Be careful while joining. There are some municipalities present in <i>unempl_2017_means</i> but missing in <i>muns_population</i> (8126 versus 8112), which can lead to <i>nan</i> values when dividing.\n",
    "</td></tr>\n",
    "</table>"
   ]
  },
  {
   "cell_type": "code",
   "execution_count": null,
   "metadata": {
    "ExecuteTime": {
     "end_time": "2018-09-12T12:10:15.146704Z",
     "start_time": "2018-09-12T12:10:14.823197Z"
    }
   },
   "outputs": [],
   "source": [
    "####### INSERT YOUR CODE HERE"
   ]
  },
  {
   "cell_type": "markdown",
   "metadata": {},
   "source": [
    "Make sure you did things correctly:"
   ]
  },
  {
   "cell_type": "code",
   "execution_count": null,
   "metadata": {
    "ExecuteTime": {
     "end_time": "2018-09-12T12:12:23.269517Z",
     "start_time": "2018-09-12T12:12:23.241336Z"
    },
    "run_control": {
     "marked": true
    }
   },
   "outputs": [],
   "source": [
    "assert(len(Y) <= min(len(unempl_2017_means), len(muns_population)))     # join cannot be larger than each of the joined frames\n",
    "assert(isinstance(Y, pd.Series) or (isinstance(Y, pd.DataFrame) and len(Y.columns) == 1))     # a series or a frame with just 1 column"
   ]
  },
  {
   "cell_type": "markdown",
   "metadata": {},
   "source": [
    "<table align=\"left\">\n",
    " <tr><td width=\"80\"><img src=\"img/pro.png\" style=\"width:auto;height:auto\"></td><td style=\"text-align:left\">\n",
    "Can you list the municipalities with known unemployment but unknown population? Conversely, are there any municipalities with known population but unknown unemployment?\n",
    " </td></tr>\n",
    "</table>"
   ]
  },
  {
   "cell_type": "code",
   "execution_count": null,
   "metadata": {
    "ExecuteTime": {
     "end_time": "2018-09-12T12:10:31.276505Z",
     "start_time": "2018-09-12T12:10:31.069431Z"
    }
   },
   "outputs": [],
   "source": [
    "####### INSERT YOUR CODE HERE"
   ]
  },
  {
   "cell_type": "markdown",
   "metadata": {},
   "source": [
    "Great, so we already have Y, but we need patterns X to train a model. Which features should we use? Well, to begin with **we can use all features from muns\\_population, since they are numerical**:"
   ]
  },
  {
   "cell_type": "markdown",
   "metadata": {},
   "source": [
    "<table align=\"left\">\n",
    " <tr><td width=\"80\"><img src=\"img/question.png\" style=\"width:auto;height:auto\"></td><td style=\"text-align:left\">\n",
    "     Create an <i>X</i> matrix with the numerical features for each municipality. Considering that in <i>Y</i> we have unemployment rates (unemployed people divided by inhabitants), is it cheating if we use the number of inhabitants as a feature? Why/why not? \n",
    " </td></tr>\n",
    "</table>"
   ]
  },
  {
   "cell_type": "code",
   "execution_count": null,
   "metadata": {
    "ExecuteTime": {
     "end_time": "2018-09-12T12:13:52.374409Z",
     "start_time": "2018-09-12T12:13:52.296586Z"
    }
   },
   "outputs": [],
   "source": [
    "####### INSERT YOUR CODE HERE"
   ]
  },
  {
   "cell_type": "markdown",
   "metadata": {},
   "source": [
    "You should have obtained X and Y in the same order:"
   ]
  },
  {
   "cell_type": "code",
   "execution_count": null,
   "metadata": {
    "ExecuteTime": {
     "end_time": "2018-09-12T12:15:11.126993Z",
     "start_time": "2018-09-12T12:15:11.118865Z"
    }
   },
   "outputs": [],
   "source": [
    "assert(isinstance(X, pd.DataFrame)) \n",
    "assert(all(X.columns == muns_population.columns))\n",
    "assert(all(X.index == Y.index))"
   ]
  },
  {
   "cell_type": "markdown",
   "metadata": {},
   "source": [
    "## 2. Baseline models"
   ]
  },
  {
   "cell_type": "markdown",
   "metadata": {},
   "source": [
    "Cool, we are ready to exploit Machine Learning. We just need to **split the data into training and set sets**. Let us fix the random seed and the ratio of data for training and test:"
   ]
  },
  {
   "cell_type": "code",
   "execution_count": null,
   "metadata": {
    "ExecuteTime": {
     "end_time": "2018-09-12T12:15:37.298593Z",
     "start_time": "2018-09-12T12:15:37.294765Z"
    }
   },
   "outputs": [],
   "source": [
    "RANDOM_STATE = 42   # fix seed\n",
    "TEST_PERC = 0.3     # 30% for test, 70% for training"
   ]
  },
  {
   "cell_type": "markdown",
   "metadata": {},
   "source": [
    "<table align=\"left\">\n",
    " <tr><td width=\"80\"><img src=\"img/question.png\" style=\"width:auto;height:auto\"></td><td style=\"text-align:left\">\n",
    "     Split <i>X</i> and <i>Y</i> into training and test sets, so that you obtain variables <i>X_train</i>, <i>Y_train</i>, <i>X_test</i> and <i>Y_test</i>. Use both constants <i>RANDOM_STATE</i> and <i>TEST_PERC</i>.\n",
    " </td></tr>\n",
    "</table>"
   ]
  },
  {
   "cell_type": "code",
   "execution_count": null,
   "metadata": {
    "ExecuteTime": {
     "end_time": "2018-09-12T12:15:49.887448Z",
     "start_time": "2018-09-12T12:15:49.871868Z"
    },
    "scrolled": false
   },
   "outputs": [],
   "source": [
    "####### INSERT YOUR CODE HERE"
   ]
  },
  {
   "cell_type": "markdown",
   "metadata": {},
   "source": [
    "Let us verify that data have been split correctly:"
   ]
  },
  {
   "cell_type": "code",
   "execution_count": null,
   "metadata": {
    "ExecuteTime": {
     "end_time": "2018-09-12T12:16:49.893023Z",
     "start_time": "2018-09-12T12:16:49.888441Z"
    }
   },
   "outputs": [],
   "source": [
    "assert(len(X_test) == ceil(TEST_PERC*len(X)) and len(Y_test) == len(X_test))       # test set size is 30% of total size\n",
    "assert(len(X_train) == len(X)-len(X_test) and len(Y_train) == len(X_train))     # every pattern not in test should be in train"
   ]
  },
  {
   "cell_type": "markdown",
   "metadata": {},
   "source": [
    "And create **colors to plot in a map the unemployment rate of each municipality**:"
   ]
  },
  {
   "cell_type": "code",
   "execution_count": null,
   "metadata": {
    "ExecuteTime": {
     "end_time": "2018-09-12T12:17:15.355394Z",
     "start_time": "2018-09-12T12:17:15.323209Z"
    },
    "code_folding": []
   },
   "outputs": [],
   "source": [
    "cmap = cm.LinearColormap(colors=['green', 'yellow', 'orange', 'red', 'black'], \n",
    "                                 vmin=round(Y.min(), 2), vmax=round(Y.max(), 2), \n",
    "                                 caption='Unemployment rate')\n",
    "cmap"
   ]
  },
  {
   "cell_type": "markdown",
   "metadata": {},
   "source": [
    "The following code generates the map corresponding to the true values of patterns in the test set, saving this map as an HTML document:"
   ]
  },
  {
   "cell_type": "code",
   "execution_count": null,
   "metadata": {
    "ExecuteTime": {
     "end_time": "2018-09-12T12:19:57.631915Z",
     "start_time": "2018-09-12T12:19:46.777743Z"
    },
    "run_control": {
     "marked": true
    }
   },
   "outputs": [],
   "source": [
    "coms = utils.read_communities('./data/ComunidadesAutonomas_ETRS89_30N/')      # read communities\n",
    "provs = utils.read_provinces('./data/Provincias_ETRS89_30N/')     # read provinces\n",
    "_ = utils.generate_map(pd.concat([X_test, Y_test], axis=1),      # generate map, which needs X and Y together...\n",
    "                       utils.LAT_FIELD, utils.LON_FIELD, Y_test.name if Y_test.name is not None else 0,   # columns with latitude, longitude and unemployment...\n",
    "                       cmap, coms=coms, provs=provs, filename='./test_true.html')    # colors, communities, provinces and where to store the map"
   ]
  },
  {
   "cell_type": "markdown",
   "metadata": {},
   "source": [
    "If you open the HTML with a browser, you will see the test municipalities plotted in the map. Ideally, **that is what we should predict**. Will an SVM be able to reproduce it?"
   ]
  },
  {
   "cell_type": "markdown",
   "metadata": {},
   "source": [
    "<table align=\"left\">\n",
    " <tr><td width=\"80\"><img src=\"img/question.png\" style=\"width:auto;height:auto\"></td><td style=\"text-align:left\">\n",
    "     Train a <b>linear SVR</b> with the dataset created above, using cross-validation to find the most suitable values for its hyperparameters.\n",
    " </td></tr>\n",
    "</table>"
   ]
  },
  {
   "cell_type": "markdown",
   "metadata": {},
   "source": [
    "<table align=\"left\">\n",
    "<tr><td width=\"80\"><img src=\"img/exclamation.png\" style=\"width:auto;height:auto\"></td><td style=\"text-align:left\">\n",
    "    Make sure you normalize inputs before feeding them to the SVM. Use a <i>Pipeline</i> with a <i>StandardScaler</i>.\n",
    "</td></tr>\n",
    "</table>"
   ]
  },
  {
   "cell_type": "code",
   "execution_count": null,
   "metadata": {
    "ExecuteTime": {
     "end_time": "2018-09-12T12:24:31.488094Z",
     "start_time": "2018-09-12T12:24:26.202396Z"
    },
    "scrolled": true
   },
   "outputs": [],
   "source": [
    "####### INSERT YOUR CODE HERE"
   ]
  },
  {
   "cell_type": "markdown",
   "metadata": {},
   "source": [
    "Let us try to **interpret what the resulting SVM is doing**:"
   ]
  },
  {
   "cell_type": "markdown",
   "metadata": {},
   "source": [
    "<table align=\"left\">\n",
    " <tr><td width=\"80\"><img src=\"img/question.png\" style=\"width:auto;height:auto\"></td><td style=\"text-align:left\">\n",
    "Generate predictions for the test set with the best linear SVR you obtained. Do you observe overfitting? Plot these predictions in a map as we did above. How good/bad is it performing, visually speaking? Do you see any strange behaviour?\n",
    " </td></tr>\n",
    "</table>"
   ]
  },
  {
   "cell_type": "markdown",
   "metadata": {},
   "source": [
    "<table align=\"left\">\n",
    "<tr><td width=\"80\"><img src=\"img/exclamation.png\" style=\"width:auto;height:auto\"></td><td style=\"text-align:left\">\n",
    "    You just need to call <i>generate_map</i>. Do not read communities nor provinces again, cause they have been already loaded in memory.\n",
    "</td></tr>\n",
    "</table>"
   ]
  },
  {
   "cell_type": "code",
   "execution_count": null,
   "metadata": {
    "ExecuteTime": {
     "end_time": "2018-09-12T12:25:06.570971Z",
     "start_time": "2018-09-12T12:24:57.531800Z"
    }
   },
   "outputs": [],
   "source": [
    "####### INSERT YOUR CODE HERE"
   ]
  },
  {
   "cell_type": "markdown",
   "metadata": {},
   "source": [
    "<table align=\"left\">\n",
    " <tr><td width=\"80\"><img src=\"img/question.png\" style=\"width:auto;height:auto\"></td><td style=\"text-align:left\">\n",
    "Explain what the model obtained is doing. What is the intercept and why is it that? What is the importance of each feature? Which features have a positive (i.e., making unemployment bigger) or a negative (making it smaller) effect on unemployment? Does this agree with your intuition about the problem?\n",
    " </td></tr>\n",
    "</table>"
   ]
  },
  {
   "cell_type": "markdown",
   "metadata": {},
   "source": [
    "<table align=\"left\">\n",
    "<tr><td width=\"80\"><img src=\"img/exclamation.png\" style=\"width:auto;height:auto\"></td><td style=\"text-align:left\">\n",
    "    The intercept (<i>b</i> in our formulas) is stored in the <i>intercept_</i> attribute of the model, whereas the weight vector (<i>w</i> in our formulas) is kept in the <i>coef_</i> attribute.\n",
    "</td></tr>\n",
    "</table>"
   ]
  },
  {
   "cell_type": "code",
   "execution_count": null,
   "metadata": {
    "ExecuteTime": {
     "end_time": "2018-09-12T12:37:19.395340Z",
     "start_time": "2018-09-12T12:37:19.212672Z"
    }
   },
   "outputs": [],
   "source": [
    "####### INSERT YOUR CODE HERE"
   ]
  },
  {
   "cell_type": "markdown",
   "metadata": {},
   "source": [
    "Let us **check if we can do better with a non-linear SVM**."
   ]
  },
  {
   "cell_type": "markdown",
   "metadata": {},
   "source": [
    "<table align=\"left\">\n",
    " <tr><td width=\"80\"><img src=\"img/question.png\" style=\"width:auto;height:auto\"></td><td style=\"text-align:left\">\n",
    "     Train a <b>non-linear SVR with the RBF kernel</b>, tuning its hyperparameters with cross-validation.\n",
    " </td></tr>\n",
    "</table>"
   ]
  },
  {
   "cell_type": "code",
   "execution_count": null,
   "metadata": {
    "ExecuteTime": {
     "end_time": "2018-09-13T13:07:53.789622Z",
     "start_time": "2018-09-13T12:59:05.098282Z"
    }
   },
   "outputs": [],
   "source": [
    "####### INSERT YOUR CODE HERE"
   ]
  },
  {
   "cell_type": "markdown",
   "metadata": {},
   "source": [
    "<table align=\"left\">\n",
    " <tr><td width=\"80\"><img src=\"img/question.png\" style=\"width:auto;height:auto\"></td><td style=\"text-align:left\">\n",
    "Create the map with the non-linear SVR predictions. Did things improve?\n",
    " </td></tr>\n",
    "</table>"
   ]
  },
  {
   "cell_type": "code",
   "execution_count": null,
   "metadata": {
    "ExecuteTime": {
     "end_time": "2018-09-14T12:55:20.661313Z",
     "start_time": "2018-09-14T12:55:12.282677Z"
    },
    "run_control": {
     "marked": true
    }
   },
   "outputs": [],
   "source": [
    "####### INSERT YOUR CODE HERE"
   ]
  },
  {
   "cell_type": "markdown",
   "metadata": {
    "ExecuteTime": {
     "end_time": "2018-09-13T13:07:53.801570Z",
     "start_time": "2018-09-13T13:07:53.792843Z"
    }
   },
   "source": [
    "<table align=\"left\">\n",
    " <tr><td width=\"80\"><img src=\"img/pro.png\" style=\"width:auto;height:auto\"></td><td style=\"text-align:left\">\n",
    "Try to explain the behaviour of the non-linear model obtained.\n",
    "</table>"
   ]
  },
  {
   "cell_type": "markdown",
   "metadata": {},
   "source": [
    "<table align=\"left\">\n",
    "<tr><td width=\"80\"><img src=\"img/exclamation.png\" style=\"width:auto;height:auto\"></td><td style=\"text-align:left\">\n",
    "It is much more difficult to interpret a non-linear SVM than a linear one. You can examine the support vectors, available in the attributes <i>support_</i>, <i>support_vectors_</i> and <i>dual_coef_</i>, to see which municipalities are considered as the most and least representative of each class. Another idea is to check and detect trends in municipalities unemployment being underestimated, being overestimated or being accurately predicted.\n",
    "</td></tr>\n",
    "</table>"
   ]
  },
  {
   "cell_type": "code",
   "execution_count": null,
   "metadata": {},
   "outputs": [],
   "source": [
    "####### INSERT YOUR CODE HERE"
   ]
  },
  {
   "cell_type": "markdown",
   "metadata": {},
   "source": [
    "## 3. Refined models"
   ]
  },
  {
   "cell_type": "markdown",
   "metadata": {
    "ExecuteTime": {
     "end_time": "2018-09-17T11:00:26.232877Z",
     "start_time": "2018-09-17T11:00:26.224069Z"
    }
   },
   "source": [
    "### 3.1. Previous years (2006-2015)"
   ]
  },
  {
   "cell_type": "markdown",
   "metadata": {},
   "source": [
    "So far we have predicted unemployment rates for 2017 based solely on municipality fixed characteristics (namely coordinates, altitude and population). Fortunately, we also have the unemployment figures for years 2006-2016, so that **we can also use unemployment in previous years to try to predict what will happen next**, in a time series fashion. Omitting for the moment 2016 (we will use it later):"
   ]
  },
  {
   "cell_type": "code",
   "execution_count": null,
   "metadata": {
    "ExecuteTime": {
     "end_time": "2018-09-17T10:25:27.391285Z",
     "start_time": "2018-09-17T10:25:27.384726Z"
    }
   },
   "outputs": [],
   "source": [
    "prev_years = range(2006, 2016)    # does not include 2016\n",
    "prev_years"
   ]
  },
  {
   "cell_type": "markdown",
   "metadata": {},
   "source": [
    "<table align=\"left\">\n",
    " <tr><td width=\"80\"><img src=\"img/question.png\" style=\"width:auto;height:auto\"></td><td style=\"text-align:left\">\n",
    "     Read the unemployment data from the <i>./data</i> folder for years 2006-2015 (both 2006 and 2015 included). You should concatenate the data for all years in a single dataframe called <i>unempl_2006_2015</i>.\n",
    " </td></tr>\n",
    "</table>"
   ]
  },
  {
   "cell_type": "markdown",
   "metadata": {},
   "source": [
    "<table align=\"left\">\n",
    "<tr><td width=\"80\"><img src=\"img/exclamation.png\" style=\"width:auto;height:auto\"></td><td style=\"text-align:left\">\n",
    "    The function <i>read_unemployment</i> from the <i>utils</i> module will help you to load the unemployment figures for a single year, as was done above for year 2017. Each year has a separate CSV file, so you should call <i>read_unemployment</i> once for each file. Then use pandas <a href=\"http://pandas.pydata.org/pandas-docs/stable/generated/pandas.concat.html\">concat</a> method to store everything in a single dataframe.\n",
    "</td></tr>\n",
    "</table>"
   ]
  },
  {
   "cell_type": "code",
   "execution_count": null,
   "metadata": {
    "ExecuteTime": {
     "end_time": "2018-09-17T10:27:04.390337Z",
     "start_time": "2018-09-17T10:26:19.408844Z"
    }
   },
   "outputs": [],
   "source": [
    "####### INSERT YOUR CODE HERE"
   ]
  },
  {
   "cell_type": "markdown",
   "metadata": {},
   "source": [
    "**For each municipality, we expect to have 120 observations** (10 years, 12 months each). For example, again taking Abla in Almería the last 20 are:"
   ]
  },
  {
   "cell_type": "code",
   "execution_count": null,
   "metadata": {
    "ExecuteTime": {
     "end_time": "2018-09-17T11:16:52.299666Z",
     "start_time": "2018-09-17T11:16:52.261507Z"
    }
   },
   "outputs": [],
   "source": [
    "unempl_2006_2015.xs(key='Abla', level=utils.MUN_FIELD, drop_level=False).tail(20)      # all records whose mun is Abla, keeping index intact"
   ]
  },
  {
   "cell_type": "markdown",
   "metadata": {},
   "source": [
    "**Again we can take yearly means** for each year:"
   ]
  },
  {
   "cell_type": "markdown",
   "metadata": {},
   "source": [
    "<table align=\"left\">\n",
    " <tr><td width=\"80\"><img src=\"img/question.png\" style=\"width:auto;height:auto\"></td><td style=\"text-align:left\">\n",
    "Calculate unemployment yearly means for each year 2006-2015 and each municipality, in a similar way that was done previously for year 2017.\n",
    " </td></tr>\n",
    "</table>"
   ]
  },
  {
   "cell_type": "markdown",
   "metadata": {},
   "source": [
    "<table align=\"left\">\n",
    " <tr><td width=\"80\"><img src=\"img/exclamation.png\" style=\"width:auto;height:auto\"></td><td style=\"text-align:left\">\n",
    "Since there are several years now, you should also group by year besides grouping by community, province and municipality.\n",
    " </td></tr>\n",
    "</table>"
   ]
  },
  {
   "cell_type": "code",
   "execution_count": null,
   "metadata": {
    "ExecuteTime": {
     "end_time": "2018-09-17T10:30:33.228825Z",
     "start_time": "2018-09-17T10:30:32.314209Z"
    }
   },
   "outputs": [],
   "source": [
    "####### INSERT YOUR CODE HERE"
   ]
  },
  {
   "cell_type": "markdown",
   "metadata": {},
   "source": [
    "And **transform these raw means to rates**:"
   ]
  },
  {
   "cell_type": "markdown",
   "metadata": {},
   "source": [
    "<table align=\"left\">\n",
    " <tr><td width=\"80\"><img src=\"img/question.png\" style=\"width:auto;height:auto\"></td><td style=\"text-align:left\">\n",
    "     Create an <i>X2</i> matrix with the mean unemployment rates for the different years. This matrix should have one row for each municipality and one column for each year.\n",
    " </td></tr>\n",
    "</table>"
   ]
  },
  {
   "cell_type": "markdown",
   "metadata": {},
   "source": [
    "<table align=\"left\">\n",
    "<tr><td width=\"80\"><img src=\"img/exclamation.png\" style=\"width:auto;height:auto\"></td><td style=\"text-align:left\">\n",
    "You have to do two things: \n",
    "<ol>\n",
    "<li> Join with populations and divide.\n",
    "<li> Transpose from column to row format. \n",
    "</ol> \n",
    "1) is basically done as for 2017 (joining on just the first 3 levels, omitting the year), while 2) is easily tackled with the <a href=\"http://pandas.pydata.org/pandas-docs/stable/generated/pandas.DataFrame.pivot.html\">pivot</a> method.\n",
    "</td></tr>\n",
    "</table>"
   ]
  },
  {
   "cell_type": "code",
   "execution_count": null,
   "metadata": {
    "ExecuteTime": {
     "end_time": "2018-09-17T10:31:09.758573Z",
     "start_time": "2018-09-17T10:31:06.826899Z"
    }
   },
   "outputs": [],
   "source": [
    "####### INSERT YOUR CODE HERE"
   ]
  },
  {
   "cell_type": "markdown",
   "metadata": {},
   "source": [
    "Verify that your matrix is correct:"
   ]
  },
  {
   "cell_type": "code",
   "execution_count": null,
   "metadata": {
    "ExecuteTime": {
     "end_time": "2018-09-17T10:31:18.761794Z",
     "start_time": "2018-09-17T10:31:18.745324Z"
    }
   },
   "outputs": [],
   "source": [
    "assert(all(X2.index == X.index) and (len(X2.columns) == len(prev_years)))      # same exact municipalities than before, one column for each year"
   ]
  },
  {
   "cell_type": "markdown",
   "metadata": {},
   "source": [
    "**Split these new patterns**:"
   ]
  },
  {
   "cell_type": "markdown",
   "metadata": {},
   "source": [
    "<table align=\"left\">\n",
    " <tr><td width=\"80\"><img src=\"img/question.png\" style=\"width:auto;height:auto\"></td><td style=\"text-align:left\">\n",
    "     Split <i>X2</i> into training and test sets, so that you obtain variables <i>X2_train</i> and <i>X2_test</i>.\n",
    " </td></tr>\n",
    "</table>"
   ]
  },
  {
   "cell_type": "markdown",
   "metadata": {},
   "source": [
    "<table align=\"left\">\n",
    " <tr><td width=\"80\"><img src=\"img/exclamation.png\" style=\"width:auto;height:auto\"></td><td style=\"text-align:left\">\n",
    "     Do not call <i>train_test_split</i> again, because <i>Y</i> is already split. Just index <i>X2</i> with the indices in <i>X_train</i> and <i>X_test</i>, because municipalities are the same.\n",
    " </td></tr>\n",
    "</table>"
   ]
  },
  {
   "cell_type": "code",
   "execution_count": null,
   "metadata": {
    "ExecuteTime": {
     "end_time": "2018-09-17T10:33:34.962541Z",
     "start_time": "2018-09-17T10:33:34.898556Z"
    },
    "scrolled": false
   },
   "outputs": [],
   "source": [
    "####### INSERT YOUR CODE HERE"
   ]
  },
  {
   "cell_type": "markdown",
   "metadata": {},
   "source": [
    "Training and test municipalities should be the same as before:"
   ]
  },
  {
   "cell_type": "code",
   "execution_count": null,
   "metadata": {
    "ExecuteTime": {
     "end_time": "2018-09-17T10:33:37.990165Z",
     "start_time": "2018-09-17T10:33:37.977713Z"
    }
   },
   "outputs": [],
   "source": [
    "assert(all(X2_train.index == X_train.index) and all(X2_train.columns == X2.columns) and     # same index, same columns for training\n",
    "      all(X2_test.index == X_test.index) and all(X2_test.columns == X2_train.columns))     # and for testing"
   ]
  },
  {
   "cell_type": "markdown",
   "metadata": {},
   "source": [
    "**Train and predict with a linear SVR with the new dataset**:"
   ]
  },
  {
   "cell_type": "markdown",
   "metadata": {},
   "source": [
    "<table align=\"left\">\n",
    " <tr><td width=\"80\"><img src=\"img/question.png\" style=\"width:auto;height:auto\"></td><td style=\"text-align:left\">\n",
    "     Tune a <i>linear SVR</i>, predict with it, plot tits predictions and compare with the ones you got for the baseline linear SVR. Are these predictions better? By how much?\n",
    " </td></tr>\n",
    "</table>"
   ]
  },
  {
   "cell_type": "code",
   "execution_count": null,
   "metadata": {
    "ExecuteTime": {
     "end_time": "2018-09-17T10:34:18.132417Z",
     "start_time": "2018-09-17T10:33:46.410248Z"
    }
   },
   "outputs": [],
   "source": [
    "####### INSERT YOUR CODE HERE"
   ]
  },
  {
   "cell_type": "markdown",
   "metadata": {},
   "source": [
    "<table align=\"left\">\n",
    " <tr><td width=\"80\"><img src=\"img/question.png\" style=\"width:auto;height:auto\"></td><td style=\"text-align:left\">\n",
    "Explain what this new linear model is doing. Which do you think are the most relevant features now? Verify whether your intuition is correct or not.\n",
    " </td></tr>\n",
    "</table>"
   ]
  },
  {
   "cell_type": "code",
   "execution_count": null,
   "metadata": {
    "ExecuteTime": {
     "end_time": "2018-09-17T10:36:03.522004Z",
     "start_time": "2018-09-17T10:36:02.627258Z"
    }
   },
   "outputs": [],
   "source": [
    "####### INSERT YOUR CODE HERE"
   ]
  },
  {
   "cell_type": "markdown",
   "metadata": {},
   "source": [
    "**See if a non-linear SVR can improve further**:"
   ]
  },
  {
   "cell_type": "markdown",
   "metadata": {},
   "source": [
    "<table align=\"left\">\n",
    " <tr><td width=\"80\"><img src=\"img/question.png\" style=\"width:auto;height:auto\"></td><td style=\"text-align:left\">\n",
    "     Tune a <b>non-linear SVR</b>, predict with it, plot its predictions and compare with the ones you got for the baseline non-linear SVR, and also with the ones you just obtained for the linear SVR. Is it worth now going from linear to non-linear?\n",
    " </td></tr>\n",
    "</table>"
   ]
  },
  {
   "cell_type": "code",
   "execution_count": null,
   "metadata": {
    "ExecuteTime": {
     "end_time": "2018-09-17T10:45:16.305791Z",
     "start_time": "2018-09-17T10:37:47.730598Z"
    }
   },
   "outputs": [],
   "source": [
    "####### INSERT YOUR CODE HERE"
   ]
  },
  {
   "cell_type": "markdown",
   "metadata": {},
   "source": [
    "<table align=\"left\">\n",
    " <tr><td width=\"80\"><img src=\"img/pro.png\" style=\"width:auto;height:auto\"></td><td style=\"text-align:left\">\n",
    "Try to explain the behaviour of the new non-linear model obtained.\n",
    "</table>"
   ]
  },
  {
   "cell_type": "code",
   "execution_count": null,
   "metadata": {},
   "outputs": [],
   "source": [
    "####### INSERT YOUR CODE HERE"
   ]
  },
  {
   "cell_type": "markdown",
   "metadata": {},
   "source": [
    "### 3.2 Previous years 2006-2015 + 2016"
   ]
  },
  {
   "cell_type": "markdown",
   "metadata": {},
   "source": [
    "Time to **check whether introducing year 2016 helps or not**:"
   ]
  },
  {
   "cell_type": "markdown",
   "metadata": {},
   "source": [
    "<table align=\"left\">\n",
    " <tr><td width=\"80\"><img src=\"img/question.png\" style=\"width:auto;height:auto\"></td><td style=\"text-align:left\">\n",
    "     Create an <i>X3</i> matrix with the same information as <i>X2</i> plus the unemployment mean rates for 2017 (i.e., an additional column). Split it into <i>X3_train</i> and <i>X3_test</i>.\n",
    " </td></tr>\n",
    "</table>"
   ]
  },
  {
   "cell_type": "markdown",
   "metadata": {},
   "source": [
    "<table align=\"left\">\n",
    " <tr><td width=\"80\"><img src=\"img/exclamation.png\" style=\"width:auto;height:auto\"></td><td style=\"text-align:left\">\n",
    "Do not process again years 2006-2015. You just have to read the information for 2017, process it analogously to what we did above and concatenate the resulting column with the ones of <i>X2</i>.\n",
    " </td></tr>\n",
    "</table>"
   ]
  },
  {
   "cell_type": "code",
   "execution_count": null,
   "metadata": {
    "ExecuteTime": {
     "end_time": "2018-09-17T10:53:02.447089Z",
     "start_time": "2018-09-17T10:52:59.623166Z"
    }
   },
   "outputs": [],
   "source": [
    "####### INSERT YOUR CODE HERE"
   ]
  },
  {
   "cell_type": "markdown",
   "metadata": {},
   "source": [
    "Your matrices should have incorporated the additional column for 2017, and kept the rest with no changes:"
   ]
  },
  {
   "cell_type": "code",
   "execution_count": null,
   "metadata": {
    "ExecuteTime": {
     "end_time": "2018-09-17T10:57:07.260262Z",
     "start_time": "2018-09-17T10:57:07.253326Z"
    }
   },
   "outputs": [],
   "source": [
    "assert(all(X3_train.index == X2_train.index) and all((c in X3_train.columns) for c in X2_train.columns) \n",
    "       and len(X3_train.columns) == len(X2_train.columns)+1)     # same index, same columns plus the extra one\n",
    "assert(all(X3_test.index == X2_test.index) and all(X3_test.columns == X3_train.columns))    # same index, same columns as for train"
   ]
  },
  {
   "cell_type": "markdown",
   "metadata": {},
   "source": [
    "**Train the new linear model**:"
   ]
  },
  {
   "cell_type": "markdown",
   "metadata": {},
   "source": [
    "<table align=\"left\">\n",
    " <tr><td width=\"80\"><img src=\"img/question.png\" style=\"width:auto;height:auto\"></td><td style=\"text-align:left\">\n",
    "     Tune a <b>linear SVR</b> and compare results with the ones you obtained for 2006-2015. Is 2016 helping? What happens now with feature relevance compared to the previous one?\n",
    " </td></tr>\n",
    "</table>"
   ]
  },
  {
   "cell_type": "code",
   "execution_count": null,
   "metadata": {
    "ExecuteTime": {
     "end_time": "2018-09-17T11:08:49.139333Z",
     "start_time": "2018-09-17T11:08:13.351967Z"
    }
   },
   "outputs": [],
   "source": [
    "####### INSERT YOUR CODE HERE"
   ]
  },
  {
   "cell_type": "markdown",
   "metadata": {},
   "source": [
    "And **finally a non-linear model**:"
   ]
  },
  {
   "cell_type": "markdown",
   "metadata": {},
   "source": [
    "<table align=\"left\">\n",
    " <tr><td width=\"80\"><img src=\"img/question.png\" style=\"width:auto;height:auto\"></td><td style=\"text-align:left\">\n",
    "     Tune a <b>non-linear SVR</b> and compare results with the ones you obtained for 2006-2015. Any better?\n",
    " </td></tr>\n",
    "</table>"
   ]
  },
  {
   "cell_type": "code",
   "execution_count": null,
   "metadata": {
    "ExecuteTime": {
     "end_time": "2018-09-17T11:06:27.958840Z",
     "start_time": "2018-09-17T11:04:11.448765Z"
    }
   },
   "outputs": [],
   "source": [
    "####### INSERT YOUR CODE HERE"
   ]
  },
  {
   "cell_type": "markdown",
   "metadata": {
    "ExecuteTime": {
     "end_time": "2018-09-17T11:15:20.900078Z",
     "start_time": "2018-09-17T11:15:20.891429Z"
    }
   },
   "source": [
    "## 4. Summary"
   ]
  },
  {
   "cell_type": "markdown",
   "metadata": {},
   "source": [
    "<table align=\"left\">\n",
    " <tr><td width=\"80\"><img src=\"img/question.png\" style=\"width:auto;height:auto\"></td><td style=\"text-align:left\">\n",
    "Summarise the results obtained. There should be 6 models to compare:\n",
    "<ol>\n",
    "<li> Baseline with municipality characteristics (linear and non-linear).\n",
    "<li> Unemployment history 2006-2015 (linear and non-linear).\n",
    "<li> Unemployment history 2006-2016 (linear and non-linear).\n",
    "</ol>\n",
    "Which model would you choose if you had to go into production? Why?\n",
    " </td></tr>\n",
    "</table>"
   ]
  },
  {
   "cell_type": "markdown",
   "metadata": {},
   "source": [
    "## 5. Bonus round"
   ]
  },
  {
   "cell_type": "markdown",
   "metadata": {},
   "source": [
    "<table align=\"left\">\n",
    " <tr><td width=\"80\"><img src=\"img/pro.png\" style=\"width:auto;height:auto\"></td><td style=\"text-align:left\">\n",
    "Explore further how we can generate even better predictions. The following are possible lines:\n",
    "<ul>\n",
    "<li>Combining variables from municipalities and past unemployment rates.</li>\n",
    "<li>Using the original monthly data instead of yearly means.</li>\n",
    "<li>Downloading and using additional data (economical, meteorological...) from other sources.</li>\n",
    "</ul>\n",
    "Feel free to edit this notebook from now on explaining your approach.\n",
    " </td></tr>\n",
    "</table>"
   ]
  },
  {
   "cell_type": "markdown",
   "metadata": {},
   "source": [
    "<table align=\"left\">\n",
    " <tr><td width=\"80\"><img src=\"img/pro.png\" style=\"width:auto;height:auto\"></td><td style=\"text-align:left\">\n",
    "Imagine that instead of predicting the mean unemployment rate for 2017 you were asked to predict monthly unemployment rates for 2017. In other words, you would like to predict for January 2017, then for February 2017, and so on till December 2017.\n",
    "\n",
    "Explain how you would tackle this problem with the data available. Extra points if you implement your proposal and show how it works in practice. Feel free to edit this notebook from now on explaining your approach.\n",
    " </td></tr>\n",
    "</table>"
   ]
  }
 ],
 "metadata": {
  "anaconda-cloud": {},
  "hide_input": false,
  "kernelspec": {
   "display_name": "Python 3",
   "language": "python",
   "name": "python3"
  },
  "language_info": {
   "codemirror_mode": {
    "name": "ipython",
    "version": 3
   },
   "file_extension": ".py",
   "mimetype": "text/x-python",
   "name": "python",
   "nbconvert_exporter": "python",
   "pygments_lexer": "ipython3",
   "version": "3.7.0"
  },
  "toc": {
   "base_numbering": 1,
   "nav_menu": {},
   "number_sections": true,
   "sideBar": true,
   "skip_h1_title": false,
   "title_cell": "Table of Contents",
   "title_sidebar": "Contents",
   "toc_cell": false,
   "toc_position": {},
   "toc_section_display": true,
   "toc_window_display": false
  }
 },
 "nbformat": 4,
 "nbformat_minor": 1
}
